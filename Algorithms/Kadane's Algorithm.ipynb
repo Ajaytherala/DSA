{
 "cells": [
  {
   "cell_type": "code",
   "execution_count": 1,
   "id": "ecf008f8",
   "metadata": {},
   "outputs": [],
   "source": [
    "from sys import maxsize\n",
    "def kadanesAlgorithm(array):\n",
    "    max_ending_here = 0\n",
    "    max_so_far = -maxsize-1\n",
    "    for ele in array:\n",
    "        max_ending_here += ele\n",
    "        if max_ending_here > max_so_far:\n",
    "            max_so_far = max_ending_here\n",
    "        if max_ending_here < 0:\n",
    "            max_ending_here = 0\n",
    "    return max_so_far"
   ]
  },
  {
   "cell_type": "code",
   "execution_count": 2,
   "id": "af6466ea",
   "metadata": {},
   "outputs": [],
   "source": [
    "array = [-2, -3, 4, -1, -2, 1, 5, -3,-9,2]"
   ]
  },
  {
   "cell_type": "code",
   "execution_count": 3,
   "id": "85c8dc2a",
   "metadata": {},
   "outputs": [
    {
     "data": {
      "text/plain": [
       "7"
      ]
     },
     "execution_count": 3,
     "metadata": {},
     "output_type": "execute_result"
    }
   ],
   "source": [
    "kadanesAlgorithm(array)"
   ]
  },
  {
   "cell_type": "code",
   "execution_count": null,
   "id": "054bda8c",
   "metadata": {},
   "outputs": [],
   "source": []
  }
 ],
 "metadata": {
  "kernelspec": {
   "display_name": "Python 3 (ipykernel)",
   "language": "python",
   "name": "python3"
  },
  "language_info": {
   "codemirror_mode": {
    "name": "ipython",
    "version": 3
   },
   "file_extension": ".py",
   "mimetype": "text/x-python",
   "name": "python",
   "nbconvert_exporter": "python",
   "pygments_lexer": "ipython3",
   "version": "3.9.13"
  }
 },
 "nbformat": 4,
 "nbformat_minor": 5
}
