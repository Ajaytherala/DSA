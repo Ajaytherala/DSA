{
 "cells": [
  {
   "cell_type": "markdown",
   "id": "72c40f80",
   "metadata": {},
   "source": [
    "# Binary Search Works only for Sorted Arrays"
   ]
  },
  {
   "cell_type": "markdown",
   "id": "6032742f",
   "metadata": {},
   "source": [
    "# 1. Iterative Approach"
   ]
  },
  {
   "cell_type": "code",
   "execution_count": 6,
   "id": "5f84dc1a",
   "metadata": {},
   "outputs": [
    {
     "name": "stdout",
     "output_type": "stream",
     "text": [
      "The search element is found at index 4 in the array [10, 20, 30, 40, 50]\n"
     ]
    }
   ],
   "source": [
    "def binary_Search(array,value):\n",
    "    low = 0\n",
    "    high = len(array)-1\n",
    "    mid = (low+high)//2\n",
    "    while not(array[mid] == value) and low<=high:\n",
    "        if value > array[mid]:\n",
    "            low = mid+1\n",
    "        elif value < array[mid]:\n",
    "            high = mid-1\n",
    "        mid = (low+high)//2\n",
    "\n",
    "    if array[mid] == value:\n",
    "        return mid\n",
    "    else:\n",
    "        return -1\n",
    "    \n",
    "array = [10,20,30,40,50]\n",
    "value = 50       \n",
    "val_idx = binary_Search(array,value)\n",
    "if val_idx>=0:\n",
    "    print(\"The search element is found at index \"+str(val_idx)+\" in the array \"+str(array))\n",
    "else:\n",
    "    print(\"The search element is not found in the array \"+str(array))"
   ]
  },
  {
   "cell_type": "markdown",
   "id": "a0e09dfb",
   "metadata": {},
   "source": [
    "# 2. Recursive Approach"
   ]
  },
  {
   "cell_type": "code",
   "execution_count": 8,
   "id": "6451a2e0",
   "metadata": {},
   "outputs": [
    {
     "name": "stdout",
     "output_type": "stream",
     "text": [
      "The search element is not found in the array [10, 20, 30, 40, 50]\n"
     ]
    }
   ],
   "source": [
    "def binary_Search_recursive(array,value,low,high):\n",
    "    val_idx = -1\n",
    "    mid = (low+high)//2\n",
    "    while low<=high:\n",
    "        if array[mid] == value:\n",
    "            val_idx = mid\n",
    "            return val_idx\n",
    "        elif value > array[mid]:\n",
    "            binary_Search_recursive(array,value,mid+1,high)\n",
    "        elif value < array[mid]:\n",
    "            binary_Search_recursive(array,value,low,mid-1)\n",
    "\n",
    "    return val_idx\n",
    "\n",
    "array = [10,20,30,40,50]\n",
    "value = 70       \n",
    "val_idx = binary_Search(array,value)  \n",
    "if val_idx>=0:\n",
    "    print(\"The search element is found at index \"+str(val_idx)+\" in the array \"+str(array))\n",
    "else:\n",
    "    print(\"The search element is not found in the array \"+str(array))"
   ]
  },
  {
   "cell_type": "code",
   "execution_count": null,
   "id": "26122337",
   "metadata": {},
   "outputs": [],
   "source": []
  }
 ],
 "metadata": {
  "kernelspec": {
   "display_name": "Python 3 (ipykernel)",
   "language": "python",
   "name": "python3"
  },
  "language_info": {
   "codemirror_mode": {
    "name": "ipython",
    "version": 3
   },
   "file_extension": ".py",
   "mimetype": "text/x-python",
   "name": "python",
   "nbconvert_exporter": "python",
   "pygments_lexer": "ipython3",
   "version": "3.9.13"
  }
 },
 "nbformat": 4,
 "nbformat_minor": 5
}
