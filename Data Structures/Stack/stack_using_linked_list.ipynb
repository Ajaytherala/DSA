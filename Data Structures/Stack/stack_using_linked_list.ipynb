{
 "cells": [
  {
   "cell_type": "code",
   "execution_count": 1,
   "id": "01e45016",
   "metadata": {},
   "outputs": [],
   "source": [
    "class Node():\n",
    "    def __init__(self,value):\n",
    "        self.value = value\n",
    "        self.next = None\n",
    "    \n",
    "class stack_ll():\n",
    "    def __init__(self):\n",
    "        self.head = None\n",
    "        \n",
    "    def push(self,value):\n",
    "        if self.head == None:\n",
    "            self.head = Node(value)\n",
    "        else:\n",
    "            node_to_be_inserted = Node(value)\n",
    "            node_to_be_inserted.next = self.head\n",
    "            self.head = node_to_be_inserted\n",
    "        print(\"The value \"+str(value)+\" pushed into the stack...\")\n",
    "            \n",
    "    def pop(self):\n",
    "        if self.head:\n",
    "            to_be_popped = self.head.value\n",
    "            self.head = self.head.next\n",
    "            return to_be_popped\n",
    "        else:\n",
    "            print(\"No elements in stack for popping...\")\n",
    "            return None\n",
    "        \n",
    "    def isEmpty(self):\n",
    "        return self.head == None\n",
    "    \n",
    "    def display_stack(self):\n",
    "        if self.head:\n",
    "            node = self.head\n",
    "            print(\"The Elements of stack are :- \")\n",
    "            while node:\n",
    "                print(node.value)\n",
    "                node = node.next\n",
    "        else:\n",
    "            print(\"No elements in stack for displaying...\")\n",
    "            \n",
    "    def peek(self):\n",
    "        return self.head.value\n",
    "    \n",
    "    def delete(self):\n",
    "        self.head = None\n",
    "        print(\"All the elements of stack are deleted...\")\n",
    "            \n",
    "    "
   ]
  },
  {
   "cell_type": "code",
   "execution_count": 2,
   "id": "a2a0cc4d",
   "metadata": {},
   "outputs": [],
   "source": [
    "stack = stack_ll()"
   ]
  },
  {
   "cell_type": "code",
   "execution_count": 3,
   "id": "905e7bbe",
   "metadata": {},
   "outputs": [
    {
     "name": "stdout",
     "output_type": "stream",
     "text": [
      "Is the stack empty ?  True\n"
     ]
    }
   ],
   "source": [
    "stack_empty = stack.isEmpty()\n",
    "print(\"Is the stack empty ? \",stack_empty)"
   ]
  },
  {
   "cell_type": "code",
   "execution_count": 4,
   "id": "2ac8c8de",
   "metadata": {},
   "outputs": [
    {
     "name": "stdout",
     "output_type": "stream",
     "text": [
      "The value 10 pushed into the stack...\n",
      "The value 20 pushed into the stack...\n",
      "The value 30 pushed into the stack...\n",
      "The value 40 pushed into the stack...\n",
      "The Elements of stack are :- \n",
      "40\n",
      "30\n",
      "20\n",
      "10\n"
     ]
    }
   ],
   "source": [
    "\n",
    "stack.push(10)\n",
    "stack.push(20)\n",
    "stack.push(30)\n",
    "stack.push(40)\n",
    "stack.display_stack()"
   ]
  },
  {
   "cell_type": "code",
   "execution_count": 5,
   "id": "a1ba3688",
   "metadata": {},
   "outputs": [
    {
     "name": "stdout",
     "output_type": "stream",
     "text": [
      "The peek value of the stack is :-  40\n"
     ]
    }
   ],
   "source": [
    "peek = stack.peek()\n",
    "print(\"The peek value of the stack is :- \",peek)"
   ]
  },
  {
   "cell_type": "code",
   "execution_count": 6,
   "id": "50682f65",
   "metadata": {},
   "outputs": [
    {
     "name": "stdout",
     "output_type": "stream",
     "text": [
      "The popped value from the stack is :-  40\n",
      "The Elements of stack are :- \n",
      "30\n",
      "20\n",
      "10\n"
     ]
    }
   ],
   "source": [
    "to_be_popped = stack.pop()\n",
    "print(\"The popped value from the stack is :- \",to_be_popped)\n",
    "stack.display_stack()"
   ]
  },
  {
   "cell_type": "code",
   "execution_count": 7,
   "id": "e9ac57e2",
   "metadata": {},
   "outputs": [
    {
     "name": "stdout",
     "output_type": "stream",
     "text": [
      "Is the stack empty ?  False\n"
     ]
    }
   ],
   "source": [
    "stack_empty = stack.isEmpty()\n",
    "print(\"Is the stack empty ? \",stack_empty)"
   ]
  },
  {
   "cell_type": "code",
   "execution_count": 8,
   "id": "74fa38d7",
   "metadata": {},
   "outputs": [
    {
     "name": "stdout",
     "output_type": "stream",
     "text": [
      "The peek value of the stack is :-  30\n"
     ]
    }
   ],
   "source": [
    "peek = stack.peek()\n",
    "print(\"The peek value of the stack is :- \",peek)"
   ]
  },
  {
   "cell_type": "code",
   "execution_count": 9,
   "id": "641f02a4",
   "metadata": {},
   "outputs": [
    {
     "name": "stdout",
     "output_type": "stream",
     "text": [
      "The popped value from the stack is :-  30\n",
      "The Elements of stack are :- \n",
      "20\n",
      "10\n"
     ]
    }
   ],
   "source": [
    "to_be_popped = stack.pop()\n",
    "print(\"The popped value from the stack is :- \",to_be_popped)\n",
    "stack.display_stack()"
   ]
  },
  {
   "cell_type": "code",
   "execution_count": 10,
   "id": "39a576c9",
   "metadata": {},
   "outputs": [
    {
     "name": "stdout",
     "output_type": "stream",
     "text": [
      "The popped value from the stack is :-  20\n",
      "The Elements of stack are :- \n",
      "10\n"
     ]
    }
   ],
   "source": [
    "to_be_popped = stack.pop()\n",
    "print(\"The popped value from the stack is :- \",to_be_popped)\n",
    "stack.display_stack()"
   ]
  },
  {
   "cell_type": "code",
   "execution_count": 11,
   "id": "4934d9c8",
   "metadata": {},
   "outputs": [
    {
     "name": "stdout",
     "output_type": "stream",
     "text": [
      "The popped value from the stack is :-  10\n",
      "No elements in stack for displaying...\n"
     ]
    }
   ],
   "source": [
    "to_be_popped = stack.pop()\n",
    "print(\"The popped value from the stack is :- \",to_be_popped)\n",
    "stack.display_stack()"
   ]
  },
  {
   "cell_type": "code",
   "execution_count": 12,
   "id": "09fffab9",
   "metadata": {},
   "outputs": [
    {
     "name": "stdout",
     "output_type": "stream",
     "text": [
      "No elements in stack for popping...\n",
      "The popped value from the stack is :-  None\n",
      "No elements in stack for displaying...\n"
     ]
    }
   ],
   "source": [
    "to_be_popped = stack.pop()\n",
    "print(\"The popped value from the stack is :- \",to_be_popped)\n",
    "stack.display_stack()"
   ]
  },
  {
   "cell_type": "code",
   "execution_count": 13,
   "id": "9d1db7a8",
   "metadata": {},
   "outputs": [
    {
     "name": "stdout",
     "output_type": "stream",
     "text": [
      "Is the stack empty ?  True\n"
     ]
    }
   ],
   "source": [
    "stack_empty = stack.isEmpty()\n",
    "print(\"Is the stack empty ? \",stack_empty)"
   ]
  },
  {
   "cell_type": "code",
   "execution_count": null,
   "id": "dadc8d96",
   "metadata": {},
   "outputs": [],
   "source": []
  }
 ],
 "metadata": {
  "kernelspec": {
   "display_name": "Python 3 (ipykernel)",
   "language": "python",
   "name": "python3"
  },
  "language_info": {
   "codemirror_mode": {
    "name": "ipython",
    "version": 3
   },
   "file_extension": ".py",
   "mimetype": "text/x-python",
   "name": "python",
   "nbconvert_exporter": "python",
   "pygments_lexer": "ipython3",
   "version": "3.9.13"
  }
 },
 "nbformat": 4,
 "nbformat_minor": 5
}
