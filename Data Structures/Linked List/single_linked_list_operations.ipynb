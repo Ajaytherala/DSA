{
 "cells": [
  {
   "cell_type": "code",
   "execution_count": 1,
   "id": "fa03d543",
   "metadata": {},
   "outputs": [],
   "source": [
    "class Node():\n",
    "    def __init__(self,value=None):\n",
    "        self.value = value\n",
    "        self.next = None\n",
    "\n",
    "class Single_Linked_List():\n",
    "    def __init__(self):\n",
    "        self.head = None\n",
    "        \n",
    "    def insert_beginning(self,value):\n",
    "        node = Node(value)\n",
    "        if self.head:\n",
    "            node.next = self.head\n",
    "            self.head = node\n",
    "        else:\n",
    "            self.head = node\n",
    "            \n",
    "    def insert_last(self,value):\n",
    "        node = self.head\n",
    "        to_be_inserted = Node(value)\n",
    "        while node.next:\n",
    "            node = node.next\n",
    "        node.next = to_be_inserted\n",
    "                \n",
    "    def traverse_linked_list(self):\n",
    "        node = self.head\n",
    "        print(\"The values of Linked List are :- \")\n",
    "        while node:\n",
    "            if node.next:\n",
    "                print(node.value,end = \" -> \")\n",
    "            else:\n",
    "                print(node.value,end = \"\")\n",
    "            node = node.next\n",
    "            \n",
    "    def search_linked_list(self,search_value):\n",
    "        flag = False\n",
    "        node = self.head\n",
    "        while node:\n",
    "            if node.value == search_value:\n",
    "                flag = True\n",
    "                break\n",
    "            node = node.next\n",
    "        if flag:\n",
    "            print(\"Search Element \"+str(search_value)+\" Found in Linked List\")\n",
    "        else:\n",
    "            print(\"Search Element \"+str(search_value)+\" Not Found in Linked List\")\n",
    "        \n",
    "        return flag\n",
    "    \n",
    "    def delete_node(self,delete_value):\n",
    "        node = self.head\n",
    "        if self.search_linked_list(delete_value):\n",
    "            print(\"Deleting the node with value \"+str(delete_value)+\" from the Linked List.\")\n",
    "            if node.value == delete_value:\n",
    "                self.head = node.next\n",
    "            else:\n",
    "                while node:\n",
    "                    if node.next.value == delete_value:\n",
    "                        node.next = node.next.next\n",
    "                        break\n",
    "                    node = node.next\n",
    "                print(\"The node with value \"+str(delete_value)+\" has been deleted from the Linked List.\")\n",
    "        else:\n",
    "            print(\"The node with value \"+str(delete_value)+\" cannot be deleted from the Linked List.\")\n",
    "                   \n",
    "    def insert_after_value(self,value,search_value):\n",
    "        node = self.head\n",
    "        to_be_inserted = Node(value)\n",
    "        if self.search_linked_list(search_value):\n",
    "            while node:\n",
    "                if node.value == search_value:\n",
    "                    to_be_inserted.next = node.next\n",
    "                    node.next = to_be_inserted\n",
    "                node = node.next\n",
    "        else:\n",
    "            print(\"Insertion Failure since the specified value \"+str(search_value)+\" is not found to insert the \"+str(value)+\" next to \"+str(search_value)+\" .\")\n",
    "        \n",
    "            \n",
    "            \n",
    "            "
   ]
  },
  {
   "cell_type": "code",
   "execution_count": 2,
   "id": "2fbf4827",
   "metadata": {},
   "outputs": [],
   "source": [
    "sll = Single_Linked_List()"
   ]
  },
  {
   "cell_type": "code",
   "execution_count": 3,
   "id": "68b2f599",
   "metadata": {},
   "outputs": [],
   "source": [
    "sll.insert_beginning(20)\n",
    "sll.insert_last(30)\n",
    "sll.insert_last(40)\n",
    "sll.insert_beginning(10)"
   ]
  },
  {
   "cell_type": "code",
   "execution_count": 4,
   "id": "a5b01a1d",
   "metadata": {},
   "outputs": [
    {
     "name": "stdout",
     "output_type": "stream",
     "text": [
      "The values of Linked List are :- \n",
      "10 -> 20 -> 30 -> 40"
     ]
    }
   ],
   "source": [
    "sll.traverse_linked_list()"
   ]
  },
  {
   "cell_type": "code",
   "execution_count": 5,
   "id": "2f9bb2c8",
   "metadata": {},
   "outputs": [
    {
     "name": "stdout",
     "output_type": "stream",
     "text": [
      "Search Element 10 Found in Linked List\n"
     ]
    },
    {
     "data": {
      "text/plain": [
       "True"
      ]
     },
     "execution_count": 5,
     "metadata": {},
     "output_type": "execute_result"
    }
   ],
   "source": [
    "sll.search_linked_list(10)\n"
   ]
  },
  {
   "cell_type": "code",
   "execution_count": 6,
   "id": "26dc1d25",
   "metadata": {},
   "outputs": [
    {
     "name": "stdout",
     "output_type": "stream",
     "text": [
      "Search Element 2000 Not Found in Linked List\n"
     ]
    },
    {
     "data": {
      "text/plain": [
       "False"
      ]
     },
     "execution_count": 6,
     "metadata": {},
     "output_type": "execute_result"
    }
   ],
   "source": [
    "sll.search_linked_list(2000)"
   ]
  },
  {
   "cell_type": "code",
   "execution_count": 7,
   "id": "661e0acc",
   "metadata": {},
   "outputs": [
    {
     "name": "stdout",
     "output_type": "stream",
     "text": [
      "Search Element 40 Found in Linked List\n"
     ]
    }
   ],
   "source": [
    "sll.insert_after_value(45,40)"
   ]
  },
  {
   "cell_type": "code",
   "execution_count": 8,
   "id": "9c03eb0b",
   "metadata": {},
   "outputs": [
    {
     "name": "stdout",
     "output_type": "stream",
     "text": [
      "The values of Linked List are :- \n",
      "10 -> 20 -> 30 -> 40 -> 45"
     ]
    }
   ],
   "source": [
    "sll.traverse_linked_list()"
   ]
  },
  {
   "cell_type": "code",
   "execution_count": 9,
   "id": "091d599a",
   "metadata": {},
   "outputs": [
    {
     "name": "stdout",
     "output_type": "stream",
     "text": [
      "Search Element 50 Not Found in Linked List\n",
      "Insertion Failure since the specified value 50 is not found to insert the 55 next to 50 .\n"
     ]
    }
   ],
   "source": [
    "sll.insert_after_value(55,50)"
   ]
  },
  {
   "cell_type": "code",
   "execution_count": 10,
   "id": "6b524f47",
   "metadata": {},
   "outputs": [
    {
     "name": "stdout",
     "output_type": "stream",
     "text": [
      "The values of Linked List are :- \n",
      "10 -> 20 -> 30 -> 40 -> 45"
     ]
    }
   ],
   "source": [
    "sll.traverse_linked_list()"
   ]
  },
  {
   "cell_type": "code",
   "execution_count": 11,
   "id": "d56fc482",
   "metadata": {},
   "outputs": [
    {
     "name": "stdout",
     "output_type": "stream",
     "text": [
      "Search Element 45 Found in Linked List\n"
     ]
    }
   ],
   "source": [
    "sll.insert_after_value(50,45)"
   ]
  },
  {
   "cell_type": "code",
   "execution_count": 12,
   "id": "54c2a184",
   "metadata": {},
   "outputs": [
    {
     "name": "stdout",
     "output_type": "stream",
     "text": [
      "The values of Linked List are :- \n",
      "10 -> 20 -> 30 -> 40 -> 45 -> 50"
     ]
    }
   ],
   "source": [
    "sll.traverse_linked_list()"
   ]
  },
  {
   "cell_type": "code",
   "execution_count": 13,
   "id": "50157c82",
   "metadata": {},
   "outputs": [],
   "source": [
    "sll.insert_last(60)"
   ]
  },
  {
   "cell_type": "code",
   "execution_count": 14,
   "id": "1092acfd",
   "metadata": {},
   "outputs": [
    {
     "name": "stdout",
     "output_type": "stream",
     "text": [
      "The values of Linked List are :- \n",
      "10 -> 20 -> 30 -> 40 -> 45 -> 50 -> 60"
     ]
    }
   ],
   "source": [
    "sll.traverse_linked_list()"
   ]
  },
  {
   "cell_type": "code",
   "execution_count": 15,
   "id": "3bef2652",
   "metadata": {},
   "outputs": [
    {
     "name": "stdout",
     "output_type": "stream",
     "text": [
      "Search Element 40 Found in Linked List\n",
      "Deleting the node with value 40 from the Linked List.\n",
      "The node with value 40 has been deleted from the Linked List.\n"
     ]
    }
   ],
   "source": [
    "sll.delete_node(40)"
   ]
  },
  {
   "cell_type": "code",
   "execution_count": 16,
   "id": "26414535",
   "metadata": {},
   "outputs": [
    {
     "name": "stdout",
     "output_type": "stream",
     "text": [
      "The values of Linked List are :- \n",
      "10 -> 20 -> 30 -> 45 -> 50 -> 60"
     ]
    }
   ],
   "source": [
    "sll.traverse_linked_list()"
   ]
  },
  {
   "cell_type": "code",
   "execution_count": 17,
   "id": "cf8eb3ff",
   "metadata": {},
   "outputs": [
    {
     "name": "stdout",
     "output_type": "stream",
     "text": [
      "Search Element 60 Found in Linked List\n",
      "Deleting the node with value 60 from the Linked List.\n",
      "The node with value 60 has been deleted from the Linked List.\n"
     ]
    }
   ],
   "source": [
    "sll.delete_node(60)"
   ]
  },
  {
   "cell_type": "code",
   "execution_count": 18,
   "id": "099f2f17",
   "metadata": {},
   "outputs": [
    {
     "name": "stdout",
     "output_type": "stream",
     "text": [
      "The values of Linked List are :- \n",
      "10 -> 20 -> 30 -> 45 -> 50"
     ]
    }
   ],
   "source": [
    "sll.traverse_linked_list()"
   ]
  },
  {
   "cell_type": "code",
   "execution_count": 19,
   "id": "84f11179",
   "metadata": {},
   "outputs": [
    {
     "name": "stdout",
     "output_type": "stream",
     "text": [
      "Search Element 10 Found in Linked List\n",
      "Deleting the node with value 10 from the Linked List.\n"
     ]
    }
   ],
   "source": [
    "sll.delete_node(10)"
   ]
  },
  {
   "cell_type": "code",
   "execution_count": 20,
   "id": "29d0b9c5",
   "metadata": {},
   "outputs": [
    {
     "name": "stdout",
     "output_type": "stream",
     "text": [
      "The values of Linked List are :- \n",
      "20 -> 30 -> 45 -> 50"
     ]
    }
   ],
   "source": [
    "sll.traverse_linked_list()"
   ]
  },
  {
   "cell_type": "code",
   "execution_count": 21,
   "id": "64cf09df",
   "metadata": {},
   "outputs": [
    {
     "name": "stdout",
     "output_type": "stream",
     "text": [
      "Search Element 70 Not Found in Linked List\n",
      "The node with value 70 cannot be deleted from the Linked List.\n"
     ]
    }
   ],
   "source": [
    "sll.delete_node(70)"
   ]
  },
  {
   "cell_type": "code",
   "execution_count": 22,
   "id": "eecc3fb8",
   "metadata": {},
   "outputs": [
    {
     "name": "stdout",
     "output_type": "stream",
     "text": [
      "The values of Linked List are :- \n",
      "20 -> 30 -> 45 -> 50"
     ]
    }
   ],
   "source": [
    "sll.traverse_linked_list()"
   ]
  }
 ],
 "metadata": {
  "kernelspec": {
   "display_name": "Python 3 (ipykernel)",
   "language": "python",
   "name": "python3"
  },
  "language_info": {
   "codemirror_mode": {
    "name": "ipython",
    "version": 3
   },
   "file_extension": ".py",
   "mimetype": "text/x-python",
   "name": "python",
   "nbconvert_exporter": "python",
   "pygments_lexer": "ipython3",
   "version": "3.9.13"
  }
 },
 "nbformat": 4,
 "nbformat_minor": 5
}
